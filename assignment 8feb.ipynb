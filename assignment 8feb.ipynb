{
 "cells": [
  {
   "cell_type": "code",
   "execution_count": null,
   "id": "7285441b-2dea-43ec-baae-0e60802d2526",
   "metadata": {},
   "outputs": [],
   "source": [
    "#Q1. What is Abstraction in OOps? Explain with an example."
   ]
  },
  {
   "cell_type": "code",
   "execution_count": null,
   "id": "43d25a14-eb99-4148-ade7-ed95aef30287",
   "metadata": {},
   "outputs": [],
   "source": [
    "#Answer\n",
    "#Abstraction in python is defined as a process of handling complexity by hiding unnecessary information from the user. \n",
    "#This is one of the core concepts of object-oriented programming (OOP) languages. That enables the user to implement even\n",
    "#more complex logic on top of the provided abstraction without understanding or even thinking about all the hidden \n",
    "#background/back-end complexity."
   ]
  },
  {
   "cell_type": "code",
   "execution_count": null,
   "id": "866741af-9674-4568-ae3d-3d24083aad52",
   "metadata": {},
   "outputs": [],
   "source": [
    "from abc import ABC, abstractmethod   \n",
    "class Car(ABC):   \n",
    "    def mileage(self):   \n",
    "        pass  \n",
    "  \n",
    "class Tesla(Car):   \n",
    "    def mileage(self):   \n",
    "        print(\"The mileage is 30kmph\")   \n",
    "class Suzuki(Car):   \n",
    "    def mileage(self):   \n",
    "        print(\"The mileage is 25kmph \")   \n",
    "class Duster(Car):   \n",
    "     def mileage(self):   \n",
    "          print(\"The mileage is 24kmph \")   \n",
    "  \n",
    "class Renault(Car):   \n",
    "    def mileage(self):   \n",
    "            print(\"The mileage is 27kmph \")   \n",
    "          \n",
    "# Driver code   \n",
    "t= Tesla ()   \n",
    "t.mileage()   \n",
    "  \n",
    "r = Renault()   \n",
    "r.mileage()   \n",
    "  \n",
    "s = Suzuki()   \n",
    "s.mileage()   \n",
    "d = Duster()   \n",
    "d.mileage("
   ]
  },
  {
   "cell_type": "code",
   "execution_count": null,
   "id": "f6b73257-59de-4952-9da1-65fd1668e8f5",
   "metadata": {},
   "outputs": [],
   "source": [
    "#Q2. Differentiate between Abstraction and Encapsulation. Explain with an example."
   ]
  },
  {
   "cell_type": "code",
   "execution_count": null,
   "id": "b8cac245-7e10-4cc4-9457-268e8430d680",
   "metadata": {},
   "outputs": [],
   "source": [
    "#Amswer\n",
    "#Abstraction is the process or method of gaining the information. While encapsulation is the process or \n",
    "#method to contain the information. In abstraction, problems are solved at the design or interface level.\n",
    "#While in encapsulation, problems are solved at the implementation level.\n"
   ]
  },
  {
   "cell_type": "code",
   "execution_count": null,
   "id": "31d77793-9f64-48ba-a541-ac27b7d9b70e",
   "metadata": {},
   "outputs": [],
   "source": [
    "#Q3. What is abc module in python? Why is it used?"
   ]
  },
  {
   "cell_type": "code",
   "execution_count": null,
   "id": "a10f3772-da0a-4bbf-91a0-6e0bd4b14f31",
   "metadata": {},
   "outputs": [],
   "source": [
    "#Answer\n",
    "#The abc module in Python is the Abstract Base Class module. It is used to define abstract base classes, which provide a way to define interfaces in Python. An abstract base class is a class that cannot be instantiated, but can be subclassed. The purpose of an abstract base class is to specify the interface that its subclasses must implement, without specifying how that implementation should be done.\n",
    "\n",
    "#The abc module provides a way to create abstract base classes in Python by using the ABC class, as well as several\n",
    "#decorators and methods to define abstract methods and properties."
   ]
  },
  {
   "cell_type": "code",
   "execution_count": 2,
   "id": "e97768ef-224a-4485-8e9d-7195227dc487",
   "metadata": {},
   "outputs": [],
   "source": [
    "#Q4. How can we achieve data abstraction?"
   ]
  },
  {
   "cell_type": "code",
   "execution_count": null,
   "id": "4243af68-86b9-4b83-8979-bb2f96a8485b",
   "metadata": {},
   "outputs": [],
   "source": [
    "#Answer\n",
    "#ata abstraction is a programming concept that allows you to define the interface of an object without revealing the\n",
    "#underlying implementation details. In other words, it provides a way to separate the implementation details of an object \n",
    "#from the way it is used by other objects."
   ]
  },
  {
   "cell_type": "code",
   "execution_count": null,
   "id": "29e8ab3d-f1e6-4a2f-b37e-8634bc98bdc1",
   "metadata": {},
   "outputs": [],
   "source": [
    "#There are several ways to achieve data abstraction in programming:\n",
    "\n",
    "#Abstraction through classes: One of the most common ways to achieve data abstraction is through the use of classes. \n",
    "#In object-oriented programming, classes provide a way to define objects with certain properties and methods, but hide \n",
    "#the underlying implementation details from the rest of the code. For example, you can define a class with public \n",
    "#methods that expose its behavior, but keep the implementation details private.\n",
    "\n",
    "#Interfaces: An interface is a collection of abstract methods that must be implemented by any class that implements the \n",
    "#interface. Interfaces are used to define a common set of behaviors that can be implemented by different classes, \n",
    "#without specifying the implementation details. For example, in Java, you can define an interface that specifies the \n",
    "#methods that must be implemented by a class that implements the interface.\n",
    "\n",
    "#Modules: In some programming languages, like Python, you can use modules to define a set of related functions and \n",
    "#variables, and hide the implementation details behind a well-defined interface. Modules provide a way to encapsulate the \n",
    "#implementation details of a set of functions, and expose them to the rest of the code through a simple API.\n",
    "\n",
    "#Information hiding: Information hiding is a programming concept that involves hiding the implementation details of an \n",
    "#object or function behind a well-defined interface. Information hiding is used to protect the internal state of an \n",
    "#object from being modified by external code, and to provide a clear and well-defined way for other objects to interact \n",
    "# with the object."
   ]
  },
  {
   "cell_type": "code",
   "execution_count": 3,
   "id": "dfcb89c9-8b95-4966-9712-9cfa4300a93c",
   "metadata": {},
   "outputs": [],
   "source": [
    "#Q5. Can we create an instance of an abstract class? Explain your answer."
   ]
  },
  {
   "cell_type": "code",
   "execution_count": null,
   "id": "db6a12d8-76bb-4e31-8b34-4ec39cffc59d",
   "metadata": {},
   "outputs": [],
   "source": [
    "#Answer\n",
    "# No, you cannot create an instance of an abstract class. An abstract class is a class that cannot be instantiated on its own, but is intended to be subclassed and have its abstract methods implemented by the subclasses. The purpose of an abstract \n",
    "class is to provide a common interface for a set of related classes, but not to be used as a standalone object."
   ]
  }
 ],
 "metadata": {
  "kernelspec": {
   "display_name": "Python 3 (ipykernel)",
   "language": "python",
   "name": "python3"
  },
  "language_info": {
   "codemirror_mode": {
    "name": "ipython",
    "version": 3
   },
   "file_extension": ".py",
   "mimetype": "text/x-python",
   "name": "python",
   "nbconvert_exporter": "python",
   "pygments_lexer": "ipython3",
   "version": "3.10.8"
  }
 },
 "nbformat": 4,
 "nbformat_minor": 5
}
